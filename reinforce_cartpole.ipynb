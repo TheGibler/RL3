{
 "cells": [
  {
   "cell_type": "code",
   "execution_count": 344,
   "metadata": {},
   "outputs": [],
   "source": [
    "import numpy as np\n",
    "from collections import deque\n",
    "\n",
    "import torch\n",
    "import torch.nn as nn\n",
    "import torch.nn.functional as F\n",
    "import torch.optim as optim\n",
    "from torch.distributions import Categorical\n",
    "\n",
    "import gym"
   ]
  },
  {
   "cell_type": "code",
   "execution_count": 345,
   "metadata": {},
   "outputs": [],
   "source": [
    "env_name = \"CartPole-v1\"\n",
    "# Create the env\n",
    "env = gym.make(env_name)\n",
    "\n",
    "# Get the state space and action space\n",
    "state_size = env.observation_space.shape[0]\n",
    "action_size = env.action_space.n"
   ]
  },
  {
   "cell_type": "code",
   "execution_count": 346,
   "metadata": {},
   "outputs": [
    {
     "name": "stdout",
     "output_type": "stream",
     "text": [
      "state size: 4\n",
      "action size: 2\n"
     ]
    }
   ],
   "source": [
    "print(\"state size:\", state_size)\n",
    "print(\"action size:\", action_size)"
   ]
  },
  {
   "cell_type": "code",
   "execution_count": 347,
   "metadata": {},
   "outputs": [],
   "source": [
    "class PolicyNetwork(nn.Module):\n",
    "\tdef __init__(self, in_dims, out_dims, hidden_size=128):\n",
    "\t\tsuper().__init__()  \n",
    "\t\tself.fc1 = nn.Linear(in_dims, hidden_size)\n",
    "\t\tself.fc2 = nn.Linear(hidden_size, out_dims)\n",
    "\n",
    "\t\t# initialize weights from a uniform distribution\n",
    "\t\tnn.init.uniform_(self.fc1.weight)\n",
    "\t\tnn.init.uniform_(self.fc2.weight)\n",
    "\n",
    "\tdef forward(self, inputs):\n",
    "\t\tx = F.relu(self.fc1(inputs))\n",
    "\t\tx = F.relu(self.fc2(x))\n",
    "\t\treturn F.softmax(x, dim=1)\n",
    "      \n",
    "\tdef act(self, state):\n",
    "\t\tstate = torch.from_numpy(state).float().unsqueeze(0)\n",
    "\t\tprobs = self.forward(state).cpu()\n",
    "\t\tmodel = Categorical(probs)\n",
    "\t\taction = model.sample()\n",
    "\t\treturn action.item(), model.log_prob(action)"
   ]
  },
  {
   "cell_type": "code",
   "execution_count": 348,
   "metadata": {},
   "outputs": [],
   "source": [
    "def reinforce(policy, optimizer, n_training_episodes, gamma, eval_steps):\n",
    "    #TODO: aparte eval functie (zonder std)\n",
    "    #TODO: iets met entropy regularization\n",
    "    # memory\n",
    "    scores_deque = deque(maxlen=eval_steps)\n",
    "    scores = []\n",
    "    \n",
    "    for i_episode in range(1, n_training_episodes+1):\n",
    "        saved_log_probs = []\n",
    "        rewards = []\n",
    "        state, _ = env.reset()\n",
    "        \n",
    "        while True:\n",
    "            action, log_prob = policy.act(state)\n",
    "            saved_log_probs.append(log_prob)\n",
    "            state, reward, done, truncated, _ = env.step(action)\n",
    "            rewards.append(reward)\n",
    "            if done or truncated:\n",
    "                break \n",
    "        scores_deque.append(sum(rewards))\n",
    "        scores.append(sum(rewards))\n",
    "        \n",
    "        returns = deque(maxlen=200) \n",
    "        T = len(rewards) \n",
    "\n",
    "        for t in range(T)[::-1]:\n",
    "            # calculate the returns from T-1 to 0\n",
    "            R_t = (returns[0] if len(returns)>0 else 0)\n",
    "            returns.appendleft( gamma*R_t + rewards[t] )    \n",
    "            \n",
    "        returns = torch.tensor(returns)\n",
    "        # standardization ???\n",
    "        returns = (returns - returns.mean()) / returns.std()\n",
    "        \n",
    "\t\t# sum^{T-1}_{t=0} R_t * log \\pi_\\theta\n",
    "        policy_loss = []\n",
    "        for log_prob, R in zip(saved_log_probs, returns):\n",
    "            policy_loss.append(-log_prob * R)\n",
    "            \n",
    "        policy_loss = torch.stack(policy_loss)\n",
    "        policy_loss = torch.sum(policy_loss, dim=0)\n",
    "        \n",
    "\t\t# apply gradients\n",
    "        optimizer.zero_grad()\n",
    "        policy_loss.backward()\n",
    "        optimizer.step()\n",
    "        \n",
    "        if i_episode % eval_steps == 0:\n",
    "            print(\"Episode\", i_episode, \"\\tAverage Score:\", np.mean(scores_deque))\n",
    "        \n",
    "    return scores"
   ]
  },
  {
   "cell_type": "code",
   "execution_count": 349,
   "metadata": {},
   "outputs": [],
   "source": [
    "# hyperparameters\n",
    "h_size = 16\n",
    "n_training_episodes = 5000 # best veel\n",
    "gamma = 0.99\n",
    "learning_rate = 1e-3\n",
    "\n",
    "n_eval_episodes = 10"
   ]
  },
  {
   "cell_type": "code",
   "execution_count": 350,
   "metadata": {},
   "outputs": [
    {
     "name": "stdout",
     "output_type": "stream",
     "text": [
      "PolicyNetwork(\n",
      "  (fc1): Linear(in_features=4, out_features=16, bias=True)\n",
      "  (fc2): Linear(in_features=16, out_features=2, bias=True)\n",
      ")\n"
     ]
    }
   ],
   "source": [
    "policy = PolicyNetwork(state_size, action_size, h_size)\n",
    "optimizer = optim.Adam(policy.parameters(), lr=learning_rate)\n",
    "\n",
    "print(policy)"
   ]
  },
  {
   "cell_type": "code",
   "execution_count": 351,
   "metadata": {},
   "outputs": [],
   "source": [
    "def evaluate_agent(env, n_eval_episodes, policy, verbose=False):\n",
    "\tepisode_rewards = []\n",
    "\tfor _ in range(n_eval_episodes):\n",
    "\t\tstate, _ = env.reset()\n",
    "\t\tdone = False\n",
    "\t\ttotal_rewards_ep = 0\n",
    "\t\t\n",
    "\t\twhile True:\n",
    "\t\t\taction, _ = policy.act(state)\n",
    "\n",
    "\t\t\tif verbose: print(action)\n",
    "\n",
    "\t\t\tnext_state, reward, done, truncated, _ = env.step(action)\n",
    "\t\t\ttotal_rewards_ep += reward\n",
    "\t\t\t\t\n",
    "\t\t\tif done or truncated:\n",
    "\t\t\t\tbreak\n",
    "\t\t\tstate = next_state\n",
    "\t\tepisode_rewards.append(total_rewards_ep)\n",
    "\tmean_reward = np.mean(episode_rewards)\n",
    "\tstd_reward = np.std(episode_rewards)\n",
    "\n",
    "\treturn mean_reward, std_reward"
   ]
  },
  {
   "cell_type": "code",
   "execution_count": 352,
   "metadata": {},
   "outputs": [
    {
     "name": "stdout",
     "output_type": "stream",
     "text": [
      "Episode 100 \tAverage Score: 33.93\n",
      "Episode 200 \tAverage Score: 41.16\n",
      "Episode 300 \tAverage Score: 53.56\n",
      "Episode 400 \tAverage Score: 78.34\n",
      "Episode 500 \tAverage Score: 91.07\n",
      "Episode 600 \tAverage Score: 117.1\n",
      "Episode 700 \tAverage Score: 143.1\n",
      "Episode 800 \tAverage Score: 173.13\n",
      "Episode 900 \tAverage Score: 186.85\n",
      "Episode 1000 \tAverage Score: 167.04\n",
      "Episode 1100 \tAverage Score: 263.0\n",
      "Episode 1200 \tAverage Score: 253.24\n",
      "Episode 1300 \tAverage Score: 290.16\n",
      "Episode 1400 \tAverage Score: 331.75\n",
      "Episode 1500 \tAverage Score: 329.57\n",
      "Episode 1600 \tAverage Score: 276.78\n",
      "Episode 1700 \tAverage Score: 231.59\n",
      "Episode 1800 \tAverage Score: 374.5\n",
      "Episode 1900 \tAverage Score: 288.67\n",
      "Episode 2000 \tAverage Score: 400.56\n",
      "Episode 2100 \tAverage Score: 439.03\n",
      "Episode 2200 \tAverage Score: 447.45\n",
      "Episode 2300 \tAverage Score: 394.86\n",
      "Episode 2400 \tAverage Score: 398.41\n",
      "Episode 2500 \tAverage Score: 269.8\n",
      "Episode 2600 \tAverage Score: 342.16\n",
      "Episode 2700 \tAverage Score: 360.44\n",
      "Episode 2800 \tAverage Score: 456.03\n",
      "Episode 2900 \tAverage Score: 406.3\n",
      "Episode 3000 \tAverage Score: 325.06\n",
      "Episode 3100 \tAverage Score: 268.75\n",
      "Episode 3200 \tAverage Score: 311.47\n",
      "Episode 3300 \tAverage Score: 389.06\n",
      "Episode 3400 \tAverage Score: 396.37\n",
      "Episode 3500 \tAverage Score: 424.31\n",
      "Episode 3600 \tAverage Score: 436.9\n",
      "Episode 3700 \tAverage Score: 447.06\n",
      "Episode 3800 \tAverage Score: 482.52\n",
      "Episode 3900 \tAverage Score: 417.81\n",
      "Episode 4000 \tAverage Score: 488.43\n",
      "Episode 4100 \tAverage Score: 485.9\n",
      "Episode 4200 \tAverage Score: 479.57\n",
      "Episode 4300 \tAverage Score: 413.69\n",
      "Episode 4400 \tAverage Score: 460.67\n",
      "Episode 4500 \tAverage Score: 430.26\n",
      "Episode 4600 \tAverage Score: 431.97\n",
      "Episode 4700 \tAverage Score: 464.69\n",
      "Episode 4800 \tAverage Score: 479.9\n",
      "Episode 4900 \tAverage Score: 441.68\n",
      "Episode 5000 \tAverage Score: 420.65\n"
     ]
    },
    {
     "data": {
      "text/plain": [
       "(500.0, 0.0)"
      ]
     },
     "execution_count": 352,
     "metadata": {},
     "output_type": "execute_result"
    }
   ],
   "source": [
    "scores = reinforce(policy,\n",
    "                   optimizer,\n",
    "                   n_training_episodes, \n",
    "                   gamma, \n",
    "                   100)\n",
    "\n",
    "eval_env = gym.make(env_name)\n",
    "evaluate_agent(eval_env,  \n",
    "               n_eval_episodes,\n",
    "               policy)"
   ]
  },
  {
   "cell_type": "code",
   "execution_count": 353,
   "metadata": {},
   "outputs": [
    {
     "data": {
      "text/plain": [
       "(486.9, 39.3)"
      ]
     },
     "execution_count": 353,
     "metadata": {},
     "output_type": "execute_result"
    }
   ],
   "source": [
    "eval_env = gym.make(env_name, render_mode=\"human\")\n",
    "\n",
    "evaluate_agent(eval_env, \n",
    "               n_eval_episodes,\n",
    "               policy,\n",
    "               verbose=False)"
   ]
  },
  {
   "cell_type": "code",
   "execution_count": 354,
   "metadata": {},
   "outputs": [],
   "source": [
    "# env.close()\n",
    "# eval_env.close()"
   ]
  }
 ],
 "metadata": {
  "kernelspec": {
   "display_name": "env",
   "language": "python",
   "name": "python3"
  },
  "language_info": {
   "codemirror_mode": {
    "name": "ipython",
    "version": 3
   },
   "file_extension": ".py",
   "mimetype": "text/x-python",
   "name": "python",
   "nbconvert_exporter": "python",
   "pygments_lexer": "ipython3",
   "version": "3.11.5"
  }
 },
 "nbformat": 4,
 "nbformat_minor": 2
}
